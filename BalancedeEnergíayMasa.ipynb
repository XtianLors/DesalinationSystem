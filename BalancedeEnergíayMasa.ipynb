{
 "cells": [
  {
   "cell_type": "markdown",
   "id": "0d79a65e-6782-4525-b844-32a86f793a56",
   "metadata": {},
   "source": [
    "## Balance de Masa y Energía"
   ]
  },
  {
   "cell_type": "markdown",
   "id": "46796db6-95ef-48ba-be7d-2aeee7b18280",
   "metadata": {},
   "source": [
    "#### Concentration in the liquid\n",
    "\n",
    "Generally the liquid fed to the evaporator is relatively diluted, so it's viscosity is low, similarly to water, and relatively high heat transfer coefficients are obtained. Circulation and/or agitation are meant to keep the coeficient high. "
   ]
  },
  {
   "cell_type": "markdown",
   "id": "db89aba0-0a18-4b76-908a-eeca49c3fb15",
   "metadata": {},
   "source": [
    "### Foaming\n",
    "Algunos materiales generan espuma durante la vaporización, la espuma pueden generarse en moléculas tan pequeñas como las del vapor a este fenómeno se le llama inframusción (entraiment)."
   ]
  },
  {
   "cell_type": "markdown",
   "id": "c7f51463-a494-4c39-b214-bab298cf6171",
   "metadata": {},
   "source": [
    "#### Solubility\n",
    "\n",
    "Conforme la solución se concentra la mezcla se vuelve menos homogénea. La evaporación de mezclas muy concentradas tiende a generar cristales. El punto de ebullición de la solución puede aumentar considerablemente debido a los sólidos generados. Aun a presión constante el punto de ebullición puede aumentar.\n"
   ]
  },
  {
   "cell_type": "code",
   "execution_count": null,
   "id": "bdddd228-9a11-4629-87ce-06eaaf996759",
   "metadata": {},
   "outputs": [],
   "source": []
  },
  {
   "cell_type": "code",
   "execution_count": null,
   "id": "17e4b939-0917-4953-bbf0-4f9da4a0ad0f",
   "metadata": {},
   "outputs": [],
   "source": []
  }
 ],
 "metadata": {
  "kernelspec": {
   "display_name": "Python 3",
   "language": "python",
   "name": "python3"
  },
  "language_info": {
   "codemirror_mode": {
    "name": "ipython",
    "version": 3
   },
   "file_extension": ".py",
   "mimetype": "text/x-python",
   "name": "python",
   "nbconvert_exporter": "python",
   "pygments_lexer": "ipython3",
   "version": "3.7.10"
  }
 },
 "nbformat": 4,
 "nbformat_minor": 5
}
