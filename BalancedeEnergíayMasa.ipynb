{
 "cells": [
  {
   "cell_type": "markdown",
   "id": "0d79a65e-6782-4525-b844-32a86f793a56",
   "metadata": {},
   "source": [
    "## Balance de Masa y Energía"
   ]
  },
  {
   "cell_type": "markdown",
   "id": "46796db6-95ef-48ba-be7d-2aeee7b18280",
   "metadata": {},
   "source": [
    "#### Concentration in the liquid\n",
    "\n",
    "Generally the liquid fed to the evaporator is relatively diluted, so it's viscosity is low, similarly to water, and relatively high heat transfer coefficients are obtained. Circulation and/or agitation are meant to keep the coeficient high. "
   ]
  },
  {
   "cell_type": "code",
   "execution_count": null,
   "id": "4dcc6fb7-df06-4e0c-a5ce-139addd8432a",
   "metadata": {},
   "outputs": [],
   "source": []
  },
  {
   "cell_type": "markdown",
   "id": "c7f51463-a494-4c39-b214-bab298cf6171",
   "metadata": {},
   "source": [
    "#### Solubility\n",
    "\n"
   ]
  }
 ],
 "metadata": {
  "kernelspec": {
   "display_name": "Python 3",
   "language": "python",
   "name": "python3"
  },
  "language_info": {
   "codemirror_mode": {
    "name": "ipython",
    "version": 3
   },
   "file_extension": ".py",
   "mimetype": "text/x-python",
   "name": "python",
   "nbconvert_exporter": "python",
   "pygments_lexer": "ipython3",
   "version": "3.7.10"
  }
 },
 "nbformat": 4,
 "nbformat_minor": 5
}
