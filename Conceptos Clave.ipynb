{
 "cells": [
  {
   "cell_type": "markdown",
   "id": "0d79a65e-6782-4525-b844-32a86f793a56",
   "metadata": {},
   "source": [
    "## Conceptos Clave"
   ]
  },
  {
   "cell_type": "markdown",
   "id": "46796db6-95ef-48ba-be7d-2aeee7b18280",
   "metadata": {},
   "source": [
    "### Concentration in the liquid\n",
    "Según McCabe, W. L., Smith, J. C., Harriot, P.,(1993) pg\n",
    "Generally the liquid fed to the evaporator is relatively diluted, so it's viscosity is low, similarly to water, and relatively high heat transfer coefficients are obtained. Circulation and/or agitation are meant to keep the coeficient high. \n"
   ]
  },
  {
   "cell_type": "markdown",
   "id": "db89aba0-0a18-4b76-908a-eeca49c3fb15",
   "metadata": {},
   "source": [
    "### Foaming\n",
    "Algunos materiales generan espuma durante la vaporización, la espuma pueden generarse en moléculas tan pequeñas como las del vapor a este fenómeno se le llama inframusción (entraiment)."
   ]
  },
  {
   "cell_type": "markdown",
   "id": "c7f51463-a494-4c39-b214-bab298cf6171",
   "metadata": {},
   "source": [
    "### Solubility\n",
    "\n",
    "Conforme la solución se concentra la mezcla se vuelve menos homogénea. La evaporación de mezclas muy concentradas tiende a generar cristales. El punto de ebullición de la solución puede aumentar considerablemente debido a los sólidos generados. Aun a presión constante el punto de ebullición puede aumentar.\n"
   ]
  },
  {
   "cell_type": "markdown",
   "id": "2ab66dcf-f73d-4cde-8f04-0e5c6fa131ad",
   "metadata": {},
   "source": [
    "### Temperature Sensitivity (solo para procesos alimenticios)\n",
    "\n",
    "En muchos casos la temperatura puede viciar las propiedades nutricionales y coligativas de un alimento. En estos casos se prefiere utilizar un rango específico de temperatura.\n"
   ]
  },
  {
   "cell_type": "markdown",
   "id": "8e421ce5-2492-4bbc-b1db-e95814efae25",
   "metadata": {},
   "source": [
    "### Materiales de Construcción\n",
    "Se prefiere utilizar acero para evaporadores. Muchas soluciones atacan a los aceros por ejemplo, soluciones con concetraciones altas de cloruro pueden generar picaduras en el acero tanto convencional como austenítico o martensítico. Otros materiales se utilizan en este sentido [Materiales de Construcción y sus Propiedades ]().\n",
    "\n",
    "Muchas otras consideraciones debe ser consideradas por el diseñador del evaporador. Algunas de estas son: calor específico, calor de concentración, punto de solidificación, gas liberado durante la evaporación, toxicidad, volatilidad, radiactividad, y esterilización del proceso."
   ]
  },
  {
   "cell_type": "markdown",
   "id": "47852b36-465f-412c-ac7d-e7cbf74c97f1",
   "metadata": {},
   "source": [
    "## Referencias\n",
    "\n",
    "1. McCabe, W. L., Smith, J. C., Harriot, P.,(1993) \"Unite Operations of Chemical Engineering\" (5°ed) MacGraw-Hill pg. 463-466."
   ]
  },
  {
   "cell_type": "code",
   "execution_count": null,
   "id": "dc23c4f6-6ea2-422b-9ebb-8ea08da57d13",
   "metadata": {},
   "outputs": [],
   "source": []
  }
 ],
 "metadata": {
  "kernelspec": {
   "display_name": "Python 3",
   "language": "python",
   "name": "python3"
  },
  "language_info": {
   "codemirror_mode": {
    "name": "ipython",
    "version": 3
   },
   "file_extension": ".py",
   "mimetype": "text/x-python",
   "name": "python",
   "nbconvert_exporter": "python",
   "pygments_lexer": "ipython3",
   "version": "3.7.10"
  }
 },
 "nbformat": 4,
 "nbformat_minor": 5
}
